{
 "cells": [
  {
   "cell_type": "markdown",
   "id": "26dbafb5-b57c-4165-baeb-357443dc2f0c",
   "metadata": {},
   "source": [
    "# GG4257 IRP: Staying Safe on Glasgow's Roads\n",
    "\n",
    "* **Authors:** Sean Healy\n",
    "\n",
    "* **Student ID:** 200016001\n",
    "* **Date:** 04/04/2024\n",
    "\n",
    "**Abstract:**\n",
    "\n",
    "This study aims to build a system that effectively sorts different kinds of car accidents in Glasgow. It uses data from police reports on 10,000 accidents in the city. The sorting will look at things like weather, road conditions, speed limits, how serious the accidents were, how many people were hurt, and the age and sex of the drivers. It will also look into how important certain points in the road network are in understanding the accidents in Glasgow. By figuring out where accidents happen most in Glasgow, the study wants to help those who make policies come up with ways to lower the number and severity of car accidents.\n",
    "\n",
    "# GitHub Repository\n",
    "- **GitHub Link:** https://github.com/SeanHealy/GG4257_IRP\n",
    "\n",
    "## Declaration\n",
    "\n",
    "> In submitting this assignment, I hereby confirm that I have read the University's statement on Good Academic Practice. The following work is my own. Significant academic debts and borrowings have been properly acknowledged and referenced.\n"
   ]
  },
  {
   "cell_type": "markdown",
   "id": "85579afe-aea1-4633-9771-3cea1735e07e",
   "metadata": {},
   "source": [
    "**Data structure**\n",
    "\n",
    "Files required for this dataset are located in the repo under IRP_data and Glasgow_OA"
   ]
  },
  {
   "cell_type": "markdown",
   "id": "88a2ffa9-1d4b-467e-8f02-6f3b6d16ae3f",
   "metadata": {},
   "source": [
    "**Table of Contents:** \n",
    "\n",
    "1. Introduction\n",
    "2. Methodology\n",
    "   - 2A. Node Degree Centrality Calculation\n",
    "   - 2B. Data Recategorisation and Standardisation\n",
    "   - 2C. K-Means Clustering\n",
    "3. Results\n",
    "   - 3A. Visualising Crashes and Road Connectivity\n",
    "   - 3B. K-mean Clusters\n",
    "4. Discussion\n",
    "   - 4A. Limitations\n",
    "   - 4B. Conclusions\n",
    "5. Appendix"
   ]
  },
  {
   "cell_type": "markdown",
   "id": "d992c32f-a27a-4980-ba38-b7a669e9ebfc",
   "metadata": {},
   "source": [
    "## Introduction\n",
    "\n",
    "This report advocates for a detailed, data-driven approach to road safety. Tailored responses could offer better and more cost-effective solutions. However, pinpointing specific measures can be difficult due to the complexity of each accident. Research indicates that a mix of environmental, infrastructure, and driver error factors contribute to the likelihood and severity of a car accident (Pembuain et al., 2019). The combination of these factors makes each accident unique, complicating the prediction of crashes.\n",
    "\n",
    "The Scottish government has set a high goal to achieve 'the best road safety performance in the world'. It plans to reduce the number and severity of road accidents by focusing on various social and infrastructure policies. These include making roads safer and more 'predictable and forgiving of mistakes' and improving post-accident responses to provide 'effective and appropriate reaction to collisions' (Transport Scotland, nd). Edinburgh, the country's capital, has taken strong measures against road accidents, implementing widespread 20mph speed limits on 80% of its streets (Nightingale et al., 2021). These measures have led to an 8% drop in accidents and a 10% decrease in injuries on roads that reduced speed limits from 30mph to 20mph (Hunter et al., 2022).\n",
    "\n",
    "Worldwide, traffic accidents are increasing, costing many countries about 3% of their GDP on average (WHO, 2018). They also pose a major threat to public health, with traffic-related deaths reaching 1.35 million in 2016 (ibid). Addressing road safety is a significant challenge for public health and complex for infrastructure planning. Cities must balance, ensuring their residents' safety while keeping the city connected and accessible.\n",
    "\n",
    "The model will draw on a detailed database containing information on vehicles and drivers involved in over 10,000 crashes in Glasgow from 2005 to 2016. This dataset includes a wide range of factors such as weather conditions, road conditions, speed limits, the severity of the crash, the number of people hurt, and the age and gender of the driver. These elements provide a thorough perspective for analyzing the patterns of road accidents in Glasgow.\n",
    "\n",
    "Additionally, this study will investigate the impact of node centrality on road accidents. Node degree centrality measures the importance of a point in a network based on how well it is connected to other nodes. This connectivity is a crucial factor in determining the likelihood of accidents. According to the European Commission, 40-60% of accidents occur at intersections in most countries. Therefore, by including measures of node centrality in the analysis, it will be possible to pinpoint weaknesses in the road network and patterns that can inform targeted interventions.\n",
    "\n",
    "This report aims to facilitate local-level, focused efforts to address road accidents and fatalities. It will use machine learning algorithms to detect patterns of accidents that happen under similar conditions and map these patterns across Glasgow's 5,486 output areas. This approach will enable policymakers to identify specific areas prone to certain types of road accidents. Spotting these local problem spots can not only point out where interventions are needed but also guide the specific changes required to lower the rates of road accidents."
   ]
  },
  {
   "cell_type": "markdown",
   "id": "112dfc00-162d-4658-8f87-8e320879807b",
   "metadata": {},
   "source": [
    "## Methodology\n",
    "\n",
    "This section includes data collection, pre-processing, and model building."
   ]
  },
  {
   "cell_type": "code",
   "execution_count": 3,
   "id": "d2beead1-b595-4901-9140-ff0e9a77da5f",
   "metadata": {},
   "outputs": [
    {
     "ename": "ModuleNotFoundError",
     "evalue": "No module named 'lonboard'",
     "output_type": "error",
     "traceback": [
      "\u001b[0;31m---------------------------------------------------------------------------\u001b[0m",
      "\u001b[0;31mModuleNotFoundError\u001b[0m                       Traceback (most recent call last)",
      "Cell \u001b[0;32mIn[3], line 19\u001b[0m\n\u001b[1;32m     17\u001b[0m \u001b[38;5;28;01mimport\u001b[39;00m \u001b[38;5;21;01mplotly\u001b[39;00m\u001b[38;5;21;01m.\u001b[39;00m\u001b[38;5;21;01mexpress\u001b[39;00m \u001b[38;5;28;01mas\u001b[39;00m \u001b[38;5;21;01mpx\u001b[39;00m\n\u001b[1;32m     18\u001b[0m \u001b[38;5;28;01mimport\u001b[39;00m \u001b[38;5;21;01mmatplotlib\u001b[39;00m\u001b[38;5;21;01m.\u001b[39;00m\u001b[38;5;21;01mpyplot\u001b[39;00m \u001b[38;5;28;01mas\u001b[39;00m \u001b[38;5;21;01mplt\u001b[39;00m\n\u001b[0;32m---> 19\u001b[0m \u001b[38;5;28;01mfrom\u001b[39;00m \u001b[38;5;21;01mlonboard\u001b[39;00m \u001b[38;5;28;01mimport\u001b[39;00m Map, ScatterplotLayer, SolidPolygonLayer\n\u001b[1;32m     20\u001b[0m \u001b[38;5;28;01mfrom\u001b[39;00m \u001b[38;5;21;01msklearn\u001b[39;00m\u001b[38;5;21;01m.\u001b[39;00m\u001b[38;5;21;01mdecomposition\u001b[39;00m \u001b[38;5;28;01mimport\u001b[39;00m PCA\n",
      "\u001b[0;31mModuleNotFoundError\u001b[0m: No module named 'lonboard'"
     ]
    }
   ],
   "source": [
    "# import libraries\n",
    "import pandas as pd \n",
    "import geopandas as gpd\n",
    "import matplotlib.pyplot as plt\n",
    "from folium import plugins\n",
    "import numpy as np\n",
    "from sklearn.preprocessing import StandardScaler\n",
    "import networkx as nx\n",
    "import osmnx as ox\n",
    "import folium\n",
    "from scipy.spatial import cKDTree\n",
    "from shapely.geometry import Point\n",
    "import seaborn as sns\n",
    "from sklearn.cluster import KMeans\n",
    "import warnings\n",
    "from scipy.spatial.distance import cdist, pdist\n",
    "import plotly.express as px\n",
    "import matplotlib.pyplot as plt\n",
    "from lonboard import Map, ScatterplotLayer, SolidPolygonLayer\n",
    "from sklearn.decomposition import PCA"
   ]
  },
  {
   "cell_type": "markdown",
   "id": "fc5bf225-334f-499c-b650-f2aa17cd9b49",
   "metadata": {},
   "source": [
    "### Loading & Preprocessing the Data\n",
    "\n",
    "The dataset was downloaded from a compiled data source from the UK Department of Transport."
   ]
  },
  {
   "cell_type": "code",
   "execution_count": null,
   "id": "8ef46186-13e0-4a79-8ab3-0308b04b7962",
   "metadata": {},
   "outputs": [],
   "source": [
    "# read crash csv data\n",
    "crash_data = pd.read_csv(\"IRP_data/Merged_Crash_Data.csv\")\n",
    "\n",
    "# read Gaslgow output area\n",
    "glasgow_oa = gpd.read_file(\"Glasgow_OA/scotland_oa_2011.shp\")\n",
    "\n",
    "# convert crash data to geodataframe w/ lat & long crash data\n",
    "crash_gdf = gpd.GeoDataFrame(crash_data, crs = 'EPSG:4326', geometry=gpd.points_from_xy(crash_data['Longitude'], crash_data['Latitude']))\n",
    "\n",
    "# project shapefile to match crash data\n",
    "glasgow_oa = glasgow_oa.to_crs('EPSG:4326')\n",
    "\n",
    "#  join shape files keep data within Glasgow\n",
    "glasgow_data = gpd.sjoin(crash_gdf, glasgow_oa, how=\"inner\", predicate=\"within\")"
   ]
  },
  {
   "cell_type": "code",
   "execution_count": null,
   "id": "91890e45-084c-4547-86fa-a781d76e40b4",
   "metadata": {},
   "outputs": [],
   "source": [
    "# download Glasgow street network\n",
    "glas = ox.graph_from_place(\"Glasgow, Scotland\", network_type=\"drive\")\n",
    "\n",
    "# set degree centrality as node attribute\n",
    "nx.set_node_attributes(glas, nx.degree_centrality(glas),name= \"degree_centrality\")\n",
    "\n",
    "# convert to GeoDataFrame\n",
    "nodes, edges = ox.graph_to_gdfs(glas)"
   ]
  },
  {
   "cell_type": "code",
   "execution_count": null,
   "id": "fc5e8ae4-5c72-4d62-9c92-13d9263875a4",
   "metadata": {},
   "outputs": [],
   "source": [
    "# find nearest point points between two data frames\n",
    "\n",
    "def ckdnearest(gdA, gdB):\n",
    "\n",
    "    nA = np.array(list(gdA.geometry.apply(lambda x: (x.x, x.y))))\n",
    "    nB = np.array(list(gdB.geometry.apply(lambda x: (x.x, x.y))))\n",
    "    btree = cKDTree(nB)\n",
    "    dist, idx = btree.query(nA, k=1)\n",
    "    gdB_nearest = gdB.iloc[idx].drop(columns=\"geometry\").reset_index(drop=True)\n",
    "    gdf = pd.concat(\n",
    "        [\n",
    "            gdA.reset_index(drop=True),\n",
    "            gdB_nearest,\n",
    "            pd.Series(dist, name='dist')\n",
    "        ], \n",
    "        axis=1)\n",
    "\n",
    "    return gdf\n",
    "\n",
    "# new dataframe with crash data linked to closest nodes \n",
    "crashes_and_centrality = ckdnearest(glasgow_data, nodes)"
   ]
  },
  {
   "cell_type": "code",
   "execution_count": null,
   "id": "4ef501eb-c4e7-47e2-b125-aa09e8a23dc3",
   "metadata": {},
   "outputs": [],
   "source": [
    "# filter data\n",
    "keep_cols= [\n",
    "    'Accident_Index',\n",
    "    'code',\n",
    "    'council',\n",
    "    'Latitude',\n",
    "    'Longitude',\n",
    "    'geometry',\n",
    "    'Accident_Severity',\n",
    "    'Number_of_Vehicles',\n",
    "    'Number_of_Casualties',\n",
    "    'Road_Surface_Conditions',\n",
    "    'Weather_Conditions',\n",
    "    'Light_Conditions',\n",
    "    'Age_Band_of_Driver',\n",
    "    'Age_of_Vehicle',\n",
    "    'Sex_of_Driver',\n",
    "    'Speed_limit',\n",
    "    'Engine_Capacity_.CC.',\n",
    "    'degree_centrality'\n",
    "]\n",
    "filter_data = crashes_and_centrality[keep_cols]"
   ]
  },
  {
   "cell_type": "markdown",
   "id": "0ef8bbf9-b156-4eca-b33a-6720cfca1d18",
   "metadata": {},
   "source": [
    "### Data Recategorisation and Standardisation \n",
    "\n",
    "Variables are recategorised since there are too many unique variables to make observations that are meaningful. They will then be consolidated to larger groups which will reflect how each variable is ditributed. This will be done in two steps.\n",
    "\n",
    "1. Recategorisation of variables into the following categories:\n",
    "\n",
    "| Variable         | Categories        | Values                           |\n",
    "|------------------|-------------------|----------------------------------|\n",
    "| Weather conditions | Fine            | - Fine no high winds             |\n",
    "|                  |                   | - Raining no high winds          |\n",
    "||-------------------|----------------------------------|\n",
    "|                  | Lower Visibility  | - Fog or mist                    |\n",
    "|                  |                   | - Snowing no high winds          |\n",
    "||-------------------|----------------------------------|\n",
    "|                  | High Winds        | - Fine high winds                |\n",
    "|                  |                   | - Raining high winds             |\n",
    "|                  |                   | - Snowing high winds             |\n",
    "|------------------|-------------------|----------------------------------|\n",
    "| Light Conditions | Daylight          | - Daylight                       |\n",
    "||-------------------|----------------------------------|\n",
    "|                  | Dark but lit      | - Darkness: streetlight lit      |\n",
    "||-------------------|----------------------------------|\n",
    "|                  | Complete Darkness | - Darkness: No Street lighting   |\n",
    "|                  |                   | - Darkness: Streetlights not lit |\n",
    "|                  |                   | - Darkness: Streetlighting unknown |\n",
    "|------------------|-------------------|----------------------------------|\n",
    "| Road Conditions  | Dry               | - Dry                            |\n",
    "||-------------------|----------------------------------|\n",
    "|                  | Wet               | - Wet/Damp                       |\n",
    "|                  |                   | - Flood                          |\n",
    "||-------------------|----------------------------------|\n",
    "|                  | Icy               | - Frost/Ice                      |\n",
    "|                  |                   | - Snow                           |\n",
    "|------------------|-------------------|----------------------------------|\n",
    "| No. of Vehicles  | 1 vehicle         |                                  |\n",
    "|                  | 2 vehicles        |                                  |\n",
    "|                  | 3 or more vehicles|                                  |\n",
    "|------------------|-------------------|----------------------------------|\n",
    "| No. of Casualties| 1 casualty        |                                  |\n",
    "|                  | 2-3 casualties    |                                  |\n",
    "|                  | 3 or more casualties |                              |\n",
    "|------------------|-------------------|----------------------------------|\n",
    "| Crash Severity   | Slight            |                                  |\n",
    "|                  | Serious           |                                  |\n",
    "|                  | Fatal             |                                  |\n",
    "|------------------|-------------------|----------------------------------|\n",
    "| Speed Limit      | 20-30             |                                  |\n",
    "|                  | 40-50             |                                  |\n",
    "|                  | 60 or more        |                                  |\n",
    "|------------------|-------------------|----------------------------------|\n",
    "| Driver Sex       | Male              |                                  |\n",
    "|                  | Female            |                                  |\n",
    "|------------------|-------------------|----------------------------------|r\n",
    "\n",
    " \n",
    "2. One-Hot-Encoding will be used to pivot the categories and convert the dataframe to binary.This is necessary since all the data will now be categorical, and allow every variables to have a standardised count.\n"
   ]
  },
  {
   "cell_type": "code",
   "execution_count": null,
   "id": "409a3022-ba18-4ba9-897d-1d9cbb396876",
   "metadata": {},
   "outputs": [],
   "source": [
    "# 1. Recategorising Variables\n",
    "\n",
    "warnings.filterwarnings('ignore')\n",
    "\n",
    "# function recategorising light conditions\n",
    "def categorize_light(row):\n",
    "    if pd.isna(row['Light_Conditions']):\n",
    "        return np.nan\n",
    "    elif row['Light_Conditions'] == 'Daylight':\n",
    "        return 'Daylight'\n",
    "    elif row['Light_Conditions'] in ['Darkness - lights lit']:\n",
    "        return 'Dark_but_Lit'\n",
    "    elif row['Light_Conditions'] in ['Darkness - lights unlit', 'Darkness - no lighting', 'Darkness: Street lighting unknown']:\n",
    "        return 'Complete_Darkness'\n",
    "    else:\n",
    "        return np.nan\n",
    "filter_data['Light_Category'] = filter_data.apply(categorize_light, axis=1)\n",
    "\n",
    "# function recategorising weather conditiions\n",
    "def categorize_weather(row):\n",
    "    if row['Weather_Conditions'] == 'Fine no high winds':\n",
    "        return 'Fine'\n",
    "    elif row['Weather_Conditions'] in ['Snowing no high winds', 'Raining no high winds', 'Fog or mist']:\n",
    "        return 'Lower_Visability'\n",
    "    elif row['Weather_Conditions'] in ['Fine + high winds', 'Raining + high winds', 'Snowing + high winds']:\n",
    "        return 'High_Winds'\n",
    "    else:\n",
    "        return np.nan        \n",
    "filter_data['Weather_Category'] = filter_data.apply(categorize_weather, axis=1)\n",
    "\n",
    "# function recategorising casualties\n",
    "def categorize_casualties(row):\n",
    "    if pd.isna(row['Number_of_Casualties']):\n",
    "        return np.nan\n",
    "    elif row['Number_of_Casualties'] == 1:\n",
    "        return '1_Casualty'\n",
    "    elif 2 <= row['Number_of_Casualties'] <= 3:\n",
    "        return '2_to_3_Casualties'\n",
    "    else: \n",
    "        return 'More_than_3_Casualties'\n",
    "filter_data['Casualty_Category'] = filter_data.apply(categorize_casualties, axis=1)\n",
    "\n",
    "# function recategorising vehicle numbers\n",
    "def categorize_vehicles(row):\n",
    "    if pd.isna(row['Number_of_Vehicles']):\n",
    "        return np.nan\n",
    "    elif row['Number_of_Vehicles'] == 1:\n",
    "        return '1_Vehicle'\n",
    "    elif row['Number_of_Vehicles'] == 2:\n",
    "        return '2_Vehicles'\n",
    "    else: \n",
    "        return '3_or_more_Vehicles'\n",
    "filter_data['Vehicle_Category'] = filter_data.apply(categorize_vehicles, axis=1)\n",
    "\n",
    "# function recategorising road conditions\n",
    "def categorize_road_conditions(row):\n",
    "    if pd.isna(row['Road_Surface_Conditions']):\n",
    "        return np.nan\n",
    "    elif row['Road_Surface_Conditions'] == 'Dry':\n",
    "        return 'Road_Dry'\n",
    "    elif row['Road_Surface_Conditions'] in ['Wet or damp', 'Flood over 3cm. deep']:\n",
    "        return 'Road_Wet'\n",
    "    elif row['Road_Surface_Conditions'] in ['Frost or ice', 'Snow']:\n",
    "        return 'Road_Icy'\n",
    "    else:\n",
    "        return np.nan\n",
    "filter_data['Surface_Condition_Category'] = filter_data.apply(categorize_road_conditions, axis=1)\n",
    "\n",
    "# function recategorising speed limits\n",
    "def categorize_speed(row):\n",
    "    if pd.isna(row['Speed_limit']):\n",
    "        return np.nan\n",
    "    elif 20 <= row['Speed_limit'] <= 30:\n",
    "        return 'Speed_20_to_30'\n",
    "    elif 40 <= row['Speed_limit'] <= 50:\n",
    "        return 'Speed_40_to_50'\n",
    "    elif 60 <= row['Speed_limit'] <= 70:\n",
    "        return 'Speed_60_Plus'\n",
    "    else:  \n",
    "        return np.nan\n",
    "filter_data['Speed_Category'] = filter_data.apply(categorize_speed, axis=1)\n",
    "\n",
    "# function recategorising driver age\n",
    "def categorize_age(row):\n",
    "    if pd.isna(row['Age_Band_of_Driver']):\n",
    "        return np.nan\n",
    "    elif row['Age_Band_of_Driver'] in ['0 - 5', '6 - 10', '11 - 15', '16 - 20', '21 - 25', '26 - 35']:\n",
    "        return 'Young'\n",
    "    elif row['Age_Band_of_Driver'] in  ['36 - 45', '46 - 55', '56 - 65']:\n",
    "        return 'Middle_Aged'\n",
    "    elif row['Age_Band_of_Driver'] in ['66 - 75', 'Over 75']:\n",
    "        return 'Senior'\n",
    "    else:\n",
    "        return np.nan\n",
    "filter_data['Age_Category'] = filter_data.apply(categorize_age, axis=1)\n",
    "\n",
    "# function recategorising driver sex\n",
    "def categorize_sex(row):\n",
    "    if pd.isna(row['Sex_of_Driver']):\n",
    "        return np.nan\n",
    "    elif row['Sex_of_Driver'] == 'Female':\n",
    "        return 'Female'\n",
    "    elif row['Sex_of_Driver'] == 'Male':\n",
    "        return 'Male'\n",
    "    else:  \n",
    "        return np.nan\n",
    "filter_data['Driver_Sex'] = filter_data.apply(categorize_sex, axis=1)\n",
    "\n",
    "# function recategorising degree centrality\n",
    "def categorize_centrality(row):\n",
    "    if pd.isna(row['degree_centrality']):\n",
    "        return np.nan\n",
    "    elif row['degree_centrality'] < 0.0003:\n",
    "        return 'Low_Centrality'\n",
    "    elif row['degree_centrality'] < 0.0005:\n",
    "        return 'Medium_Centrality'\n",
    "    else:\n",
    "        return 'High_Centrality'\n",
    "filter_data['centrality_category'] = filter_data.apply(categorize_centrality, axis=1)"
   ]
  },
  {
   "cell_type": "code",
   "execution_count": null,
   "id": "06a5a3e0-eb80-4929-bcb5-9e912812a9d3",
   "metadata": {},
   "outputs": [],
   "source": [
    "# subset dataframe\n",
    "keep_cols = ['code',\n",
    "             'Accident_Index',\n",
    "             'centrality_category',\n",
    "             'Driver_Sex',\n",
    "             'Age_Category',\n",
    "             'Speed_Category',\n",
    "             'Surface_Condition_Category',\n",
    "             'Vehicle_Category',\n",
    "             'Casualty_Category',\n",
    "             'Light_Category',\n",
    "             'Weather_Category',\n",
    "             'Accident_Severity',\n",
    "            ]\n",
    "\n",
    "categorised_data = filter_data[keep_cols]"
   ]
  },
  {
   "cell_type": "code",
   "execution_count": null,
   "id": "e1682553-64a1-480b-ab6f-5c5d53b06b3c",
   "metadata": {},
   "outputs": [],
   "source": [
    "# 2. One-Hot_Encoding\n",
    "\n",
    "# create unique ids for crash data\n",
    "categorised_data['Unique_id'] = categorised_data.index\n",
    "\n",
    "# pivot the categorised data\n",
    "variables = [\n",
    "    'centrality_category',\n",
    "             'Driver_Sex',\n",
    "             'Age_Category',\n",
    "             'Speed_Category',\n",
    "             'Surface_Condition_Category',\n",
    "             'Vehicle_Category',\n",
    "             'Casualty_Category',\n",
    "             'Light_Category',\n",
    "             'Weather_Category',\n",
    "             'Accident_Severity',\n",
    "]\n",
    "\n",
    "def pivot_accidents(data):\n",
    "    # melt dataframe to long format\n",
    "    melted = pd.melt(data, id_vars=['Unique_id'], value_vars=variables)\n",
    "    \n",
    "    # pivot to wide format with binary indicators\n",
    "    pivoted = melted.pivot_table(index='Unique_id', \n",
    "                                 columns='value', \n",
    "                                 aggfunc=len, \n",
    "                                 fill_value=0)\n",
    "    \n",
    "    # flatten MultiIndex to columns\n",
    "    pivoted.columns = ['_'.join(col).strip() for col in pivoted.columns.values]\n",
    "    \n",
    "    return pivoted.reset_index()\n",
    "\n",
    "# apply function to categorised data\n",
    "pivoted_data = pivot_accidents(categorised_data)"
   ]
  },
  {
   "cell_type": "code",
   "execution_count": null,
   "id": "837a3430-6848-43a5-b223-4a391b39ef12",
   "metadata": {},
   "outputs": [],
   "source": [
    "# merge with categorised data to retain output areas 'code'\n",
    "pivoted_merged = pivoted_data.merge(categorised_data, on = 'Unique_id')\n",
    "\n",
    "# subset to include pivoted data and output area\n",
    "keep_cols =['code',\n",
    "            'Accident_Index',\n",
    "            'variable_1_Casualty',\n",
    "            'variable_2_to_3_Casualties',\n",
    "            'variable_More_than_3_Casualties',\n",
    "            'variable_1_Vehicle',\n",
    "            'variable_2_Vehicles',\n",
    "            'variable_3_or_more_Vehicles',\n",
    "            'variable_Complete_Darkness',\n",
    "            'variable_Dark_but_Lit',\n",
    "            'variable_Daylight',\n",
    "            'variable_Fatal',\n",
    "            'variable_Slight',\n",
    "            'variable_Serious',\n",
    "            'variable_Female',\n",
    "            'variable_Male',\n",
    "            'variable_Fine',\n",
    "            'variable_High_Winds',\n",
    "            'variable_Lower_Visability',\n",
    "            'variable_Low_Centrality',\n",
    "            'variable_Medium_Centrality',\n",
    "            'variable_High_Centrality',\n",
    "            'variable_Young',\n",
    "            'variable_Middle_Aged',\n",
    "            'variable_Senior',\n",
    "            'variable_Road_Dry',\n",
    "            'variable_Road_Icy',\n",
    "            'variable_Road_Wet',\n",
    "            'variable_Speed_20_to_30',\n",
    "            'variable_Speed_40_to_50',\n",
    "            'variable_Speed_60_Plus',\n",
    "]\n",
    "\n",
    "pivoted_merged = pivoted_merged[keep_cols]"
   ]
  },
  {
   "cell_type": "markdown",
   "id": "7998c438-b4e2-4c80-9d38-d731648ce982",
   "metadata": {},
   "source": [
    "### K-means clustering preperation\n",
    "\n",
    "Data will be prepared for k-means cluster analysis in this section.\n",
    "\n",
    "#### Calculating Counts and Standardizing between each output area.\n",
    "\n",
    "**1. Variable counts:** Occurances of every variable will be tallied in every output area. A series of trial and error is used to select the variables. \n",
    "\n",
    "**2. Total Crash Count:** The total number of crashes will be included.\n",
    "\n",
    "**3. Standardization between Output Areas:** The variables counts of different output areas will be standardised to make the data comparable. The total number of crashes for each output area will be converted to percentages. \n",
    "\n",
    "**4. Standardization between variables:** Input variables will be standardised so that random variables do not contribute to the weighting of the clusters. Each variable will have their z-score calculated, which is the number of standard deviations the value is from the data mean."
   ]
  },
  {
   "cell_type": "code",
   "execution_count": null,
   "id": "5a2e7e73-236c-48b5-8bf8-a7ab9e03bb7c",
   "metadata": {},
   "outputs": [],
   "source": [
    "# variable to provide total crash count\n",
    "pivoted_merged['Total Count'] = 1\n",
    "\n",
    "# drop 'Accident_Index' to count variable occurences by output area\n",
    "oa_counts = pivoted_merged.drop('Accident_Index', axis=1).groupby('code').sum()\n",
    "\n",
    "# new dataframe of standardised counts\n",
    "df_percentages = oa_counts.copy()\n",
    "\n",
    "# run for every column other than code and total count\n",
    "for col in df_percentages.columns:\n",
    "    if col not in ['code', 'Total Count']:\n",
    "        df_percentages[col] = (df_percentages[col] / df_percentages['Total Count']) * 100\n",
    "\n",
    "# variables for k-means clustering\n",
    "keep_cols = ['variable_Complete_Darkness', 'variable_Dark_but_Lit', 'variable_Speed_20_to_30',\n",
    "       'variable_Speed_40_to_50', 'variable_Speed_60_Plus', 'variable_Female', 'variable_Male', 'variable_Low_Centrality',\n",
    "       'variable_Medium_Centrality', 'variable_High_Centrality', 'variable_Fatal', 'variable_Serious', 'variable_Slight','variable_Road_Icy', 'variable_Road_Dry', 'variable_Road_Wet']\n",
    "\n",
    "final_df = df_percentages[keep_cols]"
   ]
  },
  {
   "cell_type": "code",
   "execution_count": null,
   "id": "f5132a42-0b78-4ef6-a946-f85c65ddcc8a",
   "metadata": {},
   "outputs": [],
   "source": [
    "# standardization between variables using z-score\n",
    "numeric_columns = final_df\n",
    "z_score_df = (numeric_columns - numeric_columns.mean()) / numeric_columns.std(ddof=0)"
   ]
  },
  {
   "cell_type": "markdown",
   "id": "abe6c579-b7d8-410a-8f57-b40ab86dd6b1",
   "metadata": {},
   "source": [
    "#### Measuring variables for correlation\n",
    "\n",
    "Variables are now tested against each other to see their correlation. If variables are highly correlated, they influence clusters by providing undue weightings to particular phenomena. This occurs since the same distribution will be shown by highly correlated variables. \n",
    "\n",
    "To counter this, Pearsons coefficient matrix is used for the data frame. Then, variables with a greater score than 0.8 are removed."
   ]
  },
  {
   "cell_type": "code",
   "execution_count": null,
   "id": "a28d91b5-7dd1-4eab-88b8-c1ff5be0827a",
   "metadata": {},
   "outputs": [],
   "source": [
    "# create correlation matrix\n",
    "corr = z_score_df.corr()\n",
    "corr.style.background_gradient(cmap='coolwarm')"
   ]
  },
  {
   "cell_type": "code",
   "execution_count": null,
   "id": "3d4f6055-7010-456d-9fdb-471ab7b9d56c",
   "metadata": {},
   "outputs": [],
   "source": [
    "# set threshold\n",
    "threshold = 0.8\n",
    "\n",
    "highly_correlated = (corr.abs() > threshold) & (corr.abs() < 1.0)\n",
    "\n",
    "# heat map to differentiate between correlations\n",
    "plt.figure(figsize=(10, 8))\n",
    "sns.heatmap(highly_correlated, cmap='coolwarm', cbar=False, annot=True)\n",
    "\n",
    "plt.title('Correlated Variables')\n",
    "plt.show()"
   ]
  },
  {
   "cell_type": "markdown",
   "id": "2643fbe2-3e01-4480-8945-82f2c95a9f5f",
   "metadata": {},
   "source": [
    "The matrix above shows features that are correlated. These are:\n",
    "\n",
    "* variable_Speed_40_to_50 & variable_Speed_20_to_30\n",
    "* variable_Male & variable_Female\n",
    "* variable_Serious & variable_Slight\n",
    "* variable_Road_Dry & variable_Road_Wet\n",
    "\n",
    "To reduce the impact this will have on the results, half of them are removed"
   ]
  },
  {
   "cell_type": "code",
   "execution_count": null,
   "id": "b5c61753-597c-4cd7-9d25-8882b0fb67f3",
   "metadata": {},
   "outputs": [],
   "source": [
    "z_score_df.drop(['variable_Speed_40_to_50', 'variable_Serious', 'variable_Male','variable_Road_Dry'], axis=1, inplace=True)"
   ]
  },
  {
   "cell_type": "markdown",
   "id": "e4ade150-1e64-48c2-9296-878a1c924548",
   "metadata": {},
   "source": [
    "### K-Means Clustering\n",
    "\n",
    "K-means clustering is a type of machine learning algorithm used for spotting patterns in extensive datasets.\n",
    "\n",
    "This algorithm operates by initially placing k centroids randomly across the dataset. Then, it assigns each datapoint to the nearest centroid. After assigning the points, it calculates the average of the points in each cluster to form a new centroid. The algorithm repeats this process until it minimizes the distance between the datapoints and their respective centroids, or it reaches a predetermined number of iterations.\n",
    "\n",
    "One of the reasons for choosing K-means clustering is its ability to efficiently handle large datasets without significant computational costs.\n",
    "\n",
    "For our analysis, we determine the ideal number of clusters by employing the Elbow method. This technique involves running the K-means algorithm several times with an increasing count of clusters and measuring the within-cluster sum of squares (WCSS), which assesses how tight the clusters are. The 'Elbow' point, where the reduction in WCSS slows down markedly, suggests that adding more clusters beyond this number does not meaningfully enhance the fit of the model."
   ]
  },
  {
   "cell_type": "code",
   "execution_count": null,
   "id": "529e5e8a-5ed7-4949-bdaf-4bd0375bfdfe",
   "metadata": {},
   "outputs": [],
   "source": [
    "# plot WCSS for clusters\n",
    "Sum_of_squared_distances = []\n",
    "K_range = range(1,25)\n",
    "\n",
    "for k in K_range:\n",
    " km = KMeans(n_clusters=k, random_state=45)\n",
    " km = km.fit(z_score_df)\n",
    " Sum_of_squared_distances.append(km.inertia_)\n",
    "    \n",
    "plt.plot(K_range, Sum_of_squared_distances, 'bx-')\n",
    "plt.xlabel('k')\n",
    "plt.ylabel('Sum_of_squared_distances')\n",
    "plt.title('Elbow Method For Optimal k')\n",
    "plt.show()"
   ]
  },
  {
   "cell_type": "markdown",
   "id": "24692f92-8631-43b2-b464-e90909fb386d",
   "metadata": {},
   "source": [
    "The above plot shows the elbow at 9 clusters. To confirm, we examine the between-cluster sum of squares. When different numbers of groups are produced, the next plot will show how discriminatory each model is. "
   ]
  },
  {
   "cell_type": "code",
   "execution_count": null,
   "id": "6e1d5d2a-9903-424b-b867-c95376831022",
   "metadata": {},
   "outputs": [],
   "source": [
    "def elbow(dataframe, n):\n",
    "    kMeansVar = [KMeans(n_clusters=k).fit(dataframe.values) for k in range(1, n)]\n",
    "    centroids = [X.cluster_centers_ for X in kMeansVar]\n",
    "    k_euclid = [cdist(dataframe.values, cent) for cent in centroids]\n",
    "    dist = [np.min(ke, axis=1) for ke in k_euclid]\n",
    "    wcss = [sum(d**2) for d in dist]\n",
    "    tss = sum(pdist(dataframe.values)**2)/dataframe.values.shape[0]\n",
    "    bss = tss - wcss\n",
    "    plt.plot(bss)\n",
    "    plt.show()\n",
    " \n",
    "elbow(z_score_df,25)"
   ]
  },
  {
   "cell_type": "markdown",
   "id": "234b8f67-440b-4bd2-9781-fe9029cebfc5",
   "metadata": {},
   "source": [
    "This confirms the elbow to be between 9 & 11, so the analysis will use 9 cluster groups."
   ]
  },
  {
   "cell_type": "code",
   "execution_count": null,
   "id": "50dd6016-bbdc-4098-9df5-8da70259abac",
   "metadata": {},
   "outputs": [],
   "source": [
    "# define number of clusters and random state\n",
    "kmeans = KMeans(n_clusters=9, random_state = 45)"
   ]
  },
  {
   "cell_type": "code",
   "execution_count": null,
   "id": "527fb19a-c730-4512-8ee4-bf49eba81213",
   "metadata": {},
   "outputs": [],
   "source": [
    "# apply k-means clustering on the dataframe\n",
    "kmeans.fit(z_score_df)\n",
    "labels = kmeans.predict(z_score_df)\n",
    "cluster_centres = kmeans.cluster_centers_\n",
    "z_score_df['Cluster'] = kmeans.labels_ \n",
    "\n",
    "plt.hist(labels)"
   ]
  },
  {
   "cell_type": "code",
   "execution_count": null,
   "id": "828b68e8-cd79-4fae-b798-7a976ff09326",
   "metadata": {},
   "outputs": [],
   "source": [
    "kmeans.fit(z_score_df)\n",
    "labels = kmeans.predict(z_score_df)\n",
    "cluster_centres = kmeans.cluster_centers_\n",
    "\n",
    "# new collumn defining the cluster of output areas\n",
    "z_score_df['Cluster'] = kmeans.labels_"
   ]
  },
  {
   "cell_type": "markdown",
   "id": "6377c351-11cf-4636-bb5a-5eb286d56757",
   "metadata": {},
   "source": [
    "#### Principle Component Analysis (PCA)\n",
    "\n",
    "The relationship between various clusters and principle components will be visualised with the PCA. This helps since it:\n",
    "\n",
    "1. Simplifies Complexity: By narrowing down the dataset to its most significant components that account for the bulk of the variance, we simplify the visualization of complex data.\n",
    "2. Enhances Cluster Visibility: Utilizing PCA to plot the clusters helps in clearly seeing how the clusters form and differentiate from one another.\n",
    "3. Highlights Key Variables: When we plot the data according to its principal components, it gives us insight into the factors that play a pivotal role in defining the clusters.\n"
   ]
  },
  {
   "cell_type": "code",
   "execution_count": null,
   "id": "d2714174-81bd-43ec-ba2e-24fd5996b233",
   "metadata": {},
   "outputs": [],
   "source": [
    "plt.figure(figsize=(12, 8))\n",
    "\n",
    "# predict cluster labels\n",
    "clusters = kmeans.fit_predict(z_score_df)\n",
    "\n",
    "z_score_df['Cluster'] = clusters\n",
    "\n",
    "# remove mean and scales\n",
    "scaler = StandardScaler()\n",
    "\n",
    "# standardise z_score_df \n",
    "stand_data_scaled = scaler.fit_transform(z_score_df)\n",
    "\n",
    "# PCA analysis: 2 principle components\n",
    "pca = PCA(n_components=2).fit(stand_data_scaled)\n",
    "pca_result = pca.transform(stand_data_scaled)\n",
    "\n",
    "# percent variance explained by selected components\n",
    "variance_ratio = pca.explained_variance_ratio_\n",
    "\n",
    "# create scatter plot\n",
    "fig = px.scatter(x=pca_result[:, 0], y=pca_result[:, 1], color=clusters,\n",
    "                 labels={'color': 'Cluster'},\n",
    "                 #title='Cluster Plot against 1st 2 Principal Components',\n",
    "                 opacity=0.7,\n",
    "                 width=800, \n",
    "                 height=800)\n",
    "\n",
    "plt.tight_layout()\n",
    "fig.show()"
   ]
  },
  {
   "cell_type": "code",
   "execution_count": null,
   "id": "d43b0f17-b128-4f8c-a6cb-0ecb76e17b15",
   "metadata": {},
   "outputs": [],
   "source": [
    "# apply PCA to reduce dimensionality to 2, and visualise cluster relationship to 2 principle components\n",
    "clusters = kmeans.fit_predict(z_score_df)\n",
    "z_score_df['Cluster'] = clusters\n",
    "\n",
    "# standardise z_score_df \n",
    "scaler = StandardScaler()\n",
    "stand_data_scaled = scaler.fit_transform(z_score_df)\n",
    "\n",
    "# PCA analysis: reduce to 2 principle components\n",
    "pca = PCA(n_components=2).fit(stand_data_scaled)\n",
    "pca_result = pca.transform(stand_data_scaled)\n",
    "\n",
    "# percent variance explained by selected components.\n",
    "variance_ratio = pca.explained_variance_ratio_\n",
    "\n",
    "plt.figure(figsize=(10, 6))\n",
    "sns.scatterplot(x=pca_result[:, 0], y=pca_result[:, 1], hue=clusters, palette='viridis', s=50, alpha=0.7)\n",
    "plt.title('Cluster Plot against 1st 2 Principal Components')\n",
    "plt.xlabel(f'Principal Component 1 variation: {variance_ratio[0]*100:.2f}%')\n",
    "plt.ylabel(f'Principal Component 2 variation: {variance_ratio[1]*100:.2f}%')\n",
    "plt.legend(title='Clusters')\n",
    "plt.show()"
   ]
  },
  {
   "cell_type": "markdown",
   "id": "34985334-8ad1-4a1b-bba3-8c41dd70ec1d",
   "metadata": {},
   "source": [
    "The PCA plot reveals clear separations into different clusters, indicating the effectiveness of the k-means algorithm in identifying distinct categories within the data. However, the presence of some overlapping points between clusters shows that certain datapoints have similarities across these groups.\n",
    "\n",
    "From the plot, it's evident that the first two principal components account for 34.73% of the variance in the data, with the first component contributing 16.42% and the second 17.53%.\n",
    "\n",
    "This suggests that additional dimensions within the dataset could play a crucial role in explaining the variance, highlighting the complexity of the data.\n",
    "\n",
    "The observed overlaps among clusters and the moderate percentage of explained variance are attributed to the multifaceted nature of car accidents. As previously mentioned, categorizing car accidents is challenging because each incident can result from a combination of factors, including environmental conditions, infrastructure, and driver errors."
   ]
  },
  {
   "cell_type": "markdown",
   "id": "ab205b44-5bcd-43c1-9412-c4b87b84f55e",
   "metadata": {},
   "source": [
    "#### Understanding Cluster Centers\n",
    "\n",
    "Having successfully identified the clusters, it's crucial to delve into the specifics of the variables characterizing each cluster.\n",
    "\n",
    "The most straightforward method to comprehend the essence of these cluster centers involves examining the Z-score distribution for each group.\n",
    "\n",
    "Through radial plotting of these distributions, we gain insight into how each cluster differs in comparison to the overall sample."
   ]
  },
  {
   "cell_type": "code",
   "execution_count": null,
   "id": "2820d22f-ba37-4b2c-98e8-557f2f78fb93",
   "metadata": {},
   "outputs": [],
   "source": [
    "# clustering\n",
    "clusters = kmeans.fit_predict(z_score_df)\n",
    "\n",
    "# cluster centers\n",
    "cluster_centers = kmeans.cluster_centers_\n",
    "\n",
    "# cluster centers\n",
    "cluster_centers = pd.DataFrame(kmeans.cluster_centers_, columns=z_score_df.columns)"
   ]
  },
  {
   "cell_type": "code",
   "execution_count": null,
   "id": "2035ab27-262b-4c95-a4b5-f83e16efce96",
   "metadata": {},
   "outputs": [],
   "source": [
    "# clustering\n",
    "clusters = kmeans.fit_predict(z_score_df)\n",
    "\n",
    "# retrieve cluster centres\n",
    "cluster_centers = kmeans.cluster_centers_\n",
    "\n",
    "# convert cluster centres\n",
    "cluster_centers = pd.DataFrame(kmeans.cluster_centers_, columns=z_score_df.columns)"
   ]
  },
  {
   "cell_type": "markdown",
   "id": "3739ac10-aa84-4f4b-95aa-719294ece7de",
   "metadata": {},
   "source": [
    "We are now able to depict the Z-score distribution for each cluster through a radial plot, with an example for one cluster displayed here. Additional plots for the remaining clusters are provided in the Appendix.\n",
    "\n",
    "In these plots, the red line represents the average value of each variable. The area above and below this line shows the deviation of each variable from the mean, measured in standard deviations."
   ]
  },
  {
   "cell_type": "code",
   "execution_count": null,
   "id": "86c456a1-c1b2-4405-b43d-6017204bc4c6",
   "metadata": {},
   "outputs": [],
   "source": [
    "# first cluster\n",
    "first_row_centers = cluster_centers.iloc[0, :-1]\n",
    "\n",
    "# len of features\n",
    "num_features = len(first_row_centers)\n",
    "\n",
    "# polar coordinates\n",
    "theta = np.linspace(0, 2 * np.pi, num_features, endpoint=False)\n",
    "\n",
    "fig, ax = plt.subplots(subplot_kw={'projection': 'polar'})\n",
    "ax.plot(theta, first_row_centers, linewidth=1, color='blue', marker='o', label='Centers')\n",
    "\n",
    "# extra red line at the 0.0.\n",
    "ax.plot(theta, np.zeros_like(first_row_centers), color='red', linestyle='--', label='Average')\n",
    "\n",
    "# close the plot\n",
    "ax.plot(np.append(theta, theta[0]), np.append(first_row_centers, first_row_centers[0]), linewidth=1, color='blue', marker='o')\n",
    "\n",
    "ax.set_xticks(theta)\n",
    "ax.set_xticklabels(cluster_centers.columns[:-1], rotation=45, ha='right')\n",
    "\n",
    "# plot\n",
    "plt.legend(loc='upper left', bbox_to_anchor=(1.05, 1))\n",
    "plt.show()"
   ]
  },
  {
   "cell_type": "markdown",
   "id": "ba4616b0-239c-4f94-b9db-5696c7f18477",
   "metadata": {},
   "source": [
    "**Observations from Cluster 0**\n",
    "\n",
    "The following variables are defined by cluster 0\n",
    "\n",
    "* Medium Centrality\n",
    "* Wet Roads\n",
    "* Female\n",
    "* Slight Severity\n",
    "* 20-30 speed limit\n",
    "* Dark but lit\n",
    "\n",
    "This will be repeated for each cluster center. The final cluster map will be renamed by their key variables for ease of visualisation."
   ]
  },
  {
   "cell_type": "markdown",
   "id": "83d06ecf-e046-495e-87e1-5c256a6aa012",
   "metadata": {},
   "source": [
    "#### Consolidation\n",
    "\n",
    "The clusters have been created and defined and will be cleaned and consolidated. "
   ]
  },
  {
   "cell_type": "code",
   "execution_count": null,
   "id": "56e4b4b3-93d4-4633-a6cc-30dbff319397",
   "metadata": {},
   "outputs": [],
   "source": [
    "# retain cluster and oa codes\n",
    "z_score_df.drop([\n",
    "'variable_Complete_Darkness', 'variable_Dark_but_Lit',\n",
    "       'variable_Speed_20_to_30', 'variable_Speed_60_Plus', 'variable_Female',\n",
    "       'variable_Low_Centrality', 'variable_Medium_Centrality',\n",
    "       'variable_High_Centrality', 'variable_Fatal', 'variable_Slight',\n",
    "       'variable_Road_Icy', 'variable_Road_Wet',], axis=1, inplace=True)"
   ]
  },
  {
   "cell_type": "code",
   "execution_count": null,
   "id": "569fc210-cb7b-4e5c-996e-566deb11d628",
   "metadata": {},
   "outputs": [],
   "source": [
    "# merge cluster data and ouput areas\n",
    "results = z_score_df.merge(glasgow_oa, on='code')\n",
    "\n",
    "# merge standardised data\n",
    "results_2 = results.merge(df_percentages, on='code')\n",
    "\n",
    "# drop excess data\n",
    "results_2.drop(['objectid', 'hhcount', 'popcount', 'sqkm', 'hect', 'masterpc', 'easting', 'northing' \n",
    "                , 'council','shape_1_le','shape_1_ar', 'label', 'code', \n",
    "], axis=1, inplace=True)"
   ]
  },
  {
   "cell_type": "code",
   "execution_count": null,
   "id": "f6d99ba2-8682-475a-94c4-08d0f2758c03",
   "metadata": {},
   "outputs": [],
   "source": [
    "# rename clusters\n",
    "results_2['Cluster'] = results_2['Cluster'].astype('string')\n",
    "\n",
    "#create funcion that renames the clusters\n",
    "def rename_column(x): \n",
    "    x = x.replace('0', \"0: Slow, Medium Centrality, Slight Severity, Female, Wet Roads\")\n",
    "    x = x.replace('1', \"1: Slight Severity, Slow Speed, Medium Centrality\")\n",
    "    x = x.replace('2', \"2: Slow Speeds, High Centrality\")\n",
    "    x = x.replace('3', \"3: Slow Speeds, Low Centrality\")\n",
    "    x = x.replace('4', \"4: High Speeds, Low Centrlity\")\n",
    "    x = x.replace('5', \"5: Medium Centrality, Fatal\")\n",
    "    x = x.replace('6', \"6: Dark but Street Lit, Icy Roads\")\n",
    "    x = x.replace('7', \"7: Medium Centrality, Complete Darkness\")\n",
    "    x = x.replace('8', \"8: Darkness, Low Centrality, High Speeds\")\n",
    "    return x\n",
    "\n",
    "# run function through cluster column\n",
    "results_2['Cluster'] = results_2['Cluster'].apply(rename_column)"
   ]
  },
  {
   "cell_type": "code",
   "execution_count": null,
   "id": "3b30ce5b-4ecf-4eb2-853a-698917478c44",
   "metadata": {},
   "outputs": [],
   "source": [
    "# convert to geodataframe\n",
    "edin_map = gpd.GeoDataFrame(results_2, crs = 'EPSG:4326', geometry=results['geometry'])"
   ]
  },
  {
   "cell_type": "markdown",
   "id": "41a97a14-a7dc-478e-8344-665777b153f2",
   "metadata": {},
   "source": [
    "## Results"
   ]
  },
  {
   "cell_type": "code",
   "execution_count": null,
   "id": "b7c5ed21-b008-4e79-bc83-deb030939b7e",
   "metadata": {},
   "outputs": [],
   "source": [
    "# folium heat map to show Glasgow crashes\n",
    "map_center = [filter_data['Latitude'].median(), filter_data['Longitude'].median()]\n",
    "crash_m = folium.Map(location=map_center, zoom_start=12, tiles='CartoDB positron')\n",
    "location=filter_data[[\"Latitude\",\"Longitude\"]]\n",
    "marker_cluster = plugins.MarkerCluster(location).add_to(crash_m)\n",
    "heat_map = plugins.HeatMap(location,\n",
    "                               radius=20,\n",
    "                               blur=15,\n",
    "                               ).add_to(crash_m)\n",
    "\n",
    "folium.LayerControl().add_to(crash_m)\n",
    "crash_m"
   ]
  },
  {
   "cell_type": "markdown",
   "id": "be17979e-7766-431b-a43c-366a8ab65e7f",
   "metadata": {},
   "source": [
    "The heat map presented illustrates the disproportionate occurrence of vehicular accidents throughout Glasgow. It highlights a concentration of accidents along principal roads and expressways leading into and out of the city, as well as around the southern bypass. These areas, experiencing higher volumes of traffic, are consequently more prone to accidents.\n",
    "\n",
    "Furthermore, the map indicates that Glasgow's city center records the highest number of accidents, while the outer regions of the city show considerably fewer incidents.\n",
    "\n",
    "A detailed examination reveals that accident hotspots in Glasgow frequently develop at intersections, suggesting that the importance of a road junction, or its degree of centrality, plays a crucial role in the prevalence of road accidents."
   ]
  },
  {
   "cell_type": "code",
   "execution_count": null,
   "id": "3bf53ebf-e465-495e-82a2-7e497e307531",
   "metadata": {},
   "outputs": [],
   "source": [
    "nodes.explore(tiles=\"cartodbdarkmatter\", column=\"degree_centrality\", marker_kwds={\"radius\": 3})"
   ]
  },
  {
   "cell_type": "markdown",
   "id": "90d3ae7d-0c3a-4918-9461-57678e2cca3e",
   "metadata": {},
   "source": [
    "The diagram showcases the road network nodes in Glasgow, with each node color-coded according to its centrality level. The distribution of node centralities throughout the city appears fairly uniform. While the majority of nodes have low to medium levels of centrality, a few stand out with significantly higher centrality."
   ]
  },
  {
   "cell_type": "code",
   "execution_count": null,
   "id": "f61e3d6c-ac6d-434e-81f5-5f3be035265e",
   "metadata": {},
   "outputs": [],
   "source": [
    "# distribution of node degree centrality\n",
    "counts_per_node_degree = filter_data.groupby('centrality_category')['Accident_Index'].count()\n",
    "counts_per_node_degree.plot(kind='bar', figsize=(5, 5))\n",
    "plt.title('Crashes by Node Centrality')\n",
    "plt.xlabel('Centrality Category')\n",
    "plt.ylabel('# of Accidents')\n",
    "plt.xticks(rotation=90)\n",
    "plt.show()"
   ]
  },
  {
   "cell_type": "code",
   "execution_count": null,
   "id": "98a1374e-b9e8-4b82-b842-7e2f09bb6c1c",
   "metadata": {},
   "outputs": [],
   "source": [
    "# counts for number of crashes and severity per degree centrality\n",
    "counts_severity_node = filter_data.groupby(['centrality_category', 'Accident_Severity'])['Accident_Index'].count()\n",
    "counts_severity_node.plot(kind='bar', stacked = True, figsize=(5, 5))\n",
    "plt.title('# of Crashes by Node Centrality')\n",
    "plt.xlabel('Centrality Category')\n",
    "plt.ylabel('# of Accidents')\n",
    "plt.xticks(rotation=90)\n",
    "plt.show()"
   ]
  },
  {
   "cell_type": "markdown",
   "id": "ab658394-b471-4c60-9d0b-6d69913c0928",
   "metadata": {},
   "source": [
    "The bar chart depicted reveals how accident occurrences correlate with node centrality within the road network, categorized by the severity of crashes. It indicates a higher frequency of accidents near nodes with medium centrality and fewer incidents adjacent to nodes of high centrality.\n",
    "\n",
    "Furthermore, the data points out that the proximity to high centrality nodes does not equate to more severe accidents. The majority of accidents, regardless of the centrality level, lead to minor injuries. This suggests that there's no direct link between the centrality of a node and the severity of crashes that occur near it."
   ]
  },
  {
   "cell_type": "code",
   "execution_count": null,
   "id": "91dfcbe6-2c83-43b8-a03d-3f7f4f29654f",
   "metadata": {},
   "outputs": [],
   "source": [
    "# distribution of gender\n",
    "counts_per_node_degree = filter_data.groupby('Driver_Sex')['Accident_Index'].count()\n",
    "counts_per_node_degree.plot(kind='bar', figsize=(5, 5))\n",
    "plt.title('Number of Crashes by Gender')\n",
    "plt.xlabel('Driver Gender')\n",
    "plt.ylabel('Number of Accidents')\n",
    "plt.xticks(rotation=90)\n",
    "plt.show()"
   ]
  },
  {
   "cell_type": "code",
   "execution_count": null,
   "id": "b42feb22-a792-481e-9271-5db1123d6441",
   "metadata": {},
   "outputs": [],
   "source": [
    "# Glasgow output areas coloured by cluster\n",
    "glas_map.explore(column='Cluster', cmap='Set3', tiles='CartoDB positron')"
   ]
  },
  {
   "cell_type": "markdown",
   "id": "8abdb8dd-2f76-4622-8ec6-f3b0b3d6f4dc",
   "metadata": {},
   "source": [
    "\n",
    "The displayed map is a choropleth representation of Glasgow's output areas, with varying shades illustrating the 9 k-means clusters determined from the crash data collected within these areas. Not all output areas are marked with a cluster; this absence is due to a lack of crash data in these areas, leaving them uncategorized.\n",
    "\n",
    "The k-means clustering approach has unveiled distinct patterns of clusters throughout Glasgow, highlighting a clear division between the central parts of Glasgow and the outskirts. The periphery of the city mainly falls under two large clusters that define the city's edges. One such cluster, identified as cluster 6, reaches into the city along major western access routes. \n",
    "\n",
    "In contrast, the city center of Glasgow features numerous smaller clusters, with some appearing sporadically across the map. This randomness often results from output areas recording very few crashes during the study, making them unique. Certain clusters, for instance, cluster 1, seem to trace specific pathways or mirror varying land uses. Central city clusters are significantly shaped by factors such as node centrality and speed limit regulations.\n",
    "\n",
    "The distinct pattern of clustering observed towards the city's fringes suggests that accidents in these locations might be more straightforward to classify compared to those in the city center.\n",
    "\n",
    "Further analysis of the map in Appendix C reveals that the distinction between Glasgow's inner and outer regions correlates with the city bypass. The nature of crashes on this larger road type could account for the differing categorization of accidents, with those on the bypass possibly being more homogeneous and predictable."
   ]
  },
  {
   "cell_type": "markdown",
   "id": "b160eebd-9541-46b2-87e2-93d257f6e667",
   "metadata": {},
   "source": [
    "Clusters 5 and 6 stand out as they form most of the expansive output areas on the fringes of Glasgow. The large size of these output areas is a key factor in their prominent appearance on the map.\n",
    "\n",
    "Cluster 5 is characterized by a higher-than-average fatality rate and medium node centrality. Its presence around Glasgow suggests that these areas are typically located far from the city center. One possible explanation for this pattern is their peripheral location, which might place them at a disadvantage in terms of access to medical services. Consequently, accidents in these zones could have a higher likelihood of resulting in fatalities.\n",
    "\n",
    "On the other hand, cluster 6 predominantly features icy road conditions and, to a lesser extent, dark conditions with street lighting. This pattern may be attributed to these areas being on the city's outskirts, where they might not benefit from the same level of services as the central urban areas. For instance, priority may be given to gritting roads in the city center, increasing the risk of icing on roads near the city's edges. Additionally, the urban heat island effect could play a role. This effect causes built-up areas to retain heat more effectively than less developed areas, making them warmer (EPA, 2024). Hence, roads outside the urban center might be more prone to icing, raising the accident rate. This cluster also stretches into Glasgow along the main eastern roads and appears in scattered output areas across the city."
   ]
  },
  {
   "cell_type": "markdown",
   "id": "ae0db889-36f7-4f04-b63f-b2704af78a0d",
   "metadata": {},
   "source": [
    "In Glasgow's city center, clustering of output areas tends to be more scattered compared to the more uniform patterns seen on the outskirts. Nonetheless, several distinct clusters can be observed, many of which align with specific infrastructure and land use trends. For instance, cluster 1 is prevalent in Glasgow's commercial and tourism heart, encompassing the core areas of Glasgow. These locations experience heavy pedestrian traffic and are defined by slow vehicle speeds, medium centrality, and minor injury severity. The presence of this cluster might reflect areas with extensive traffic control measures like traffic lights, roundabouts, and pedestrian crossings, due to the high volume of pedestrians.\n",
    "\n",
    "Cluster 4 offers another insight, with a pattern of appearing along main arterial routes into the city. The accidents within these areas are marked by low centrality and high speeds, suggesting these might be roads with fewer complex intersections and higher speed limits.\n",
    "\n",
    "Additionally, the map points out several more isolated crash clusters that occur in just one or two districts at a time. Cluster 0, identified by incidents involving female drivers, medium centrality, and wet road conditions, is dispersed throughout the city without a clear pattern of concentration. There are also sporadic appearances of cluster 8 (defined by high speeds, darkness, and low centrality) and cluster 7 (marked by darkness and medium centrality) throughout Glasgow, indicating less common but notable patterns of road accidents."
   ]
  },
  {
   "cell_type": "markdown",
   "id": "f100bb32-3b08-4a1f-a90b-0368aa12afdd",
   "metadata": {},
   "source": [
    "## Discussion\n",
    "\n",
    "\n",
    "The k-means clustering analysis conducted in this study reveals the complex interplay of infrastructure, societal factors, and environmental conditions in shaping the diverse landscape of vehicular accidents. The detailed nature of the cluster analysis aids in pinpointing specific areas with recurring problems.\n",
    "\n",
    "This research offers valuable insights for refining road safety strategies in Glasgow. It synthesizes key contributors to road accidents throughout the city and identifies zones requiring targeted interventions, whether infrastructural, societal, or in terms of emergency services, to effectively minimize vehicular accidents.\n",
    "\n",
    "Heat maps of road accidents in Glasgow underline the central urban area as the primary focus for policymakers, given its high incidence of accidents. While Glasgow has already implemented widespread 20mph speed limits, this study suggests that a universal strategy may not address the distinct challenges presented by different parts of the city’s road network. Instead, it advocates for interventions tailored to the unique factors influencing accidents in specific locales.\n",
    "\n",
    "For instance, the analysis points to a possible shortfall in road safety measures on the city’s outskirts, where accidents often result in higher fatalities and are more likely to occur on icy roads. In such regions, enhancing emergency service availability could be crucial in reducing accident severity and fatalities. As a targeted measure, placing additional emergency response units in areas identified by Cluster 5 could improve response times and, consequently, survival rates. This approach is corroborated by research from the European Commission, which indicates a correlation between the availability of ambulances and the incidence of fatal accidents. Such findings could also guide the strategic placement of future healthcare facilities.\n",
    "\n",
    "In areas highlighted by Cluster 6, the focus should be on preventing icy conditions on roads, which significantly reduce vehicle traction and contribute to accidents. Solutions could include revising grit distribution routes, augmenting the availability of grit bins, and educating drivers about the increased risks during colder periods. A closer look at current gritting practices could further refine these strategies.\n",
    "\n",
    "According to the analysis from the k-means clustering model, addressing road safety in Glasgow's city center demands more nuanced and specific solutions than those applied to suburban areas. The accident patterns in the city center involve a broader range of factors and occur in much denser clusters.\n",
    "\n",
    "For instance, accidents within Cluster 1 typically involve lower speeds and occur near moderately connected road junctions, with generally less severe outcomes. The priority here might shift away from emergency response enhancements to preventive measures against frequent, minor accidents. Proposed solutions could include better signage, enhanced junction controls, and traffic calming strategies. Research supports that such measures can heighten driver awareness and minimize conflicts at intersections, thereby reducing accidents (Ewing, nd).\n",
    "\n",
    "In contrast, Cluster 4's defining characteristics of high speeds and lower connectivity suggest a need to slow down traffic. Strategies might involve implementing lower speed limits, installing speed cameras, and bolstering police patrols. While such measures may be less feasible on main thoroughfares where high-speed flow is necessary, alternative traffic calming techniques could be employed to maintain driver alertness without significantly impeding traffic.\n",
    "\n",
    "Cluster 0 stands out due to its lack of a clear pattern and being the sole cluster distinguished by driver gender. Despite data indicating that most accidents in Glasgow are caused by male drivers, the emergence of Cluster 0, with a higher incidence of accidents involving female drivers, signals underlying issues worth exploring. Identifying these factors could lead to targeted interventions aimed at addressing the specific risks encountered by female drivers in these areas."
   ]
  },
  {
   "cell_type": "markdown",
   "id": "b2eb2326-c0df-4b73-b932-acd83a2b623e",
   "metadata": {},
   "source": [
    "## Conclusion\n",
    "\n",
    "The increasing global trend of traffic incidents presents a significant challenge, leading to economic burdens and substantial pressures on public health infrastructures. In response, the Scottish government has taken active measures to address road safety issues, particularly in Glasgow, by enforcing widespread 20mph speed restrictions throughout the city. These measures have effectively reduced both the occurrence and impact of road accidents in the area.\n",
    "\n",
    "The complexity of road accidents, influenced by a combination of environmental, societal, and infrastructural elements, calls for a more detailed strategy in addressing road safety. Through the application of machine learning techniques, this study has adeptly differentiated various accident types within Glasgow, shedding light on the specific and localized patterns of these incidents.\n",
    "\n",
    "Our analysis reveals a stark contrast between accident patterns in the city's heart versus its outskirts. The outer areas of Glasgow spotlight deficiencies in service delivery, evident from the prevalence of more fatal accidents and conditions conducive to icy roads. These observations suggest a need for better emergency services and road maintenance in these zones. Conversely, the heart of Glasgow displays a series of smaller, distinct, and localized clusters, each with its specific challenges. These central areas demand targeted solutions, such as enhanced traffic calming initiatives and, in certain instances, improved street lighting.\n",
    "\n",
    "Moreover, this research underscores the significant influence of node centrality on road accidents, with some areas marked by high centrality and others by low. Recognizing junctions with substantial connectivity could guide better infrastructure planning and accident mitigation efforts.\n",
    "\n",
    "To sum up, the k-means clustering approach has proven effective in organizing and elucidating the diverse factors leading to road accidents. The identified clusters reveal spatial trends in these incidents, advocating for a nuanced, data-informed approach to road safety policymaking. Tailored interventions are essential to address the distinct needs of different communities effectively. Such a strategy could increase the effectiveness of road safety initiatives and lower the incidence of fatal accidents. Future policies must acknowledge the intricate nature of road safety challenges, employing a data-driven methodology to develop innovative and nuanced strategies for combating road accidents."
   ]
  },
  {
   "cell_type": "markdown",
   "id": "de7bfc9d-065d-4b88-bc11-7d8f3dbea517",
   "metadata": {},
   "source": [
    "## Limitations\n",
    "\n",
    "Dataset Limitations: The dataset for this analysis, encompassing over 15,000 accident records, showed an uneven distribution across Glasgow. This unevenness, especially noticeable in areas reporting a single accident, led to what appeared to be arbitrary clustering in certain locations.\n",
    "\n",
    "Additionally, the dataset concludes with data up to 2016, missing out on the effects of Glasgow’s expansion of 20mph speed zones in 2018. As a result, the analysis does not account for changes following this implementation.\n",
    "\n",
    "Complexity of Accident Factors: Echoing findings from the literature (Sinclair & Das, 2021), a myriad of factors influence the occurrence, location, and nature of vehicular accidents worldwide. Establishing definitive accident categories proves challenging, underscoring the need for further research and data gathering to identify more descriptive clusters of accidents.\n",
    "\n",
    "Node Degree Centrality Limitations: The method used to assess the connectedness of nodes, while insightful, has its limitations. It solely gauges the connectivity of a node to adjacent roads but doesn’t account for its overall importance in the road network. A more comprehensive measure, degree betweenness, would have offered a deeper understanding by evaluating a node’s significance in linking all other nodes within the network. However, this study was constrained to using degree centrality due to the extensive computational resources required for calculating betweenness for Glasgow’s entire road network."
   ]
  },
  {
   "cell_type": "markdown",
   "id": "6f2e13c8-4544-4a76-b8a5-416eb818d903",
   "metadata": {},
   "source": [
    "### Appendix"
   ]
  },
  {
   "cell_type": "code",
   "execution_count": null,
   "id": "b875bf62-436e-40dd-abde-290b4db8cccd",
   "metadata": {},
   "outputs": [],
   "source": [
    "# cluster 1\n",
    "first_row_centers = cluster_centers.iloc[1, :-1]\n",
    "num_features = len(first_row_centers)\n",
    "theta = np.linspace(0, 2 * np.pi, num_features, endpoint=False)\n",
    "fig, ax = plt.subplots(subplot_kw={'projection': 'polar'})\n",
    "ax.plot(theta, first_row_centers, linewidth=1, color='blue', marker='o', label='Centers')\n",
    "ax.plot(theta, np.zeros_like(first_row_centers), color='red', linestyle='--', label='Average')\n",
    "ax.plot(np.append(theta, theta[0]), np.append(first_row_centers, first_row_centers[0]), linewidth=1, color='blue', marker='o')\n",
    "ax.set_xticks(theta)\n",
    "ax.set_xticklabels(cluster_centers.columns[:-1], rotation=45, ha='right')\n",
    "plt.legend(loc='upper left', bbox_to_anchor=(1.05, 1))\n",
    "plt.show()"
   ]
  },
  {
   "cell_type": "code",
   "execution_count": null,
   "id": "fd7cdc8e-a8ff-4ba7-8394-16ecf82126df",
   "metadata": {},
   "outputs": [],
   "source": [
    "# cluster 2\n",
    "first_row_centers = cluster_centers.iloc[2, :-1]\n",
    "num_features = len(first_row_centers)\n",
    "theta = np.linspace(0, 2 * np.pi, num_features, endpoint=False)\n",
    "fig, ax = plt.subplots(subplot_kw={'projection': 'polar'})\n",
    "ax.plot(theta, first_row_centers, linewidth=1, color='blue', marker='o', label='Centers')\n",
    "ax.plot(theta, np.zeros_like(first_row_centers), color='red', linestyle='--', label='Average')\n",
    "ax.plot(np.append(theta, theta[0]), np.append(first_row_centers, first_row_centers[0]), linewidth=1, color='blue', marker='o')\n",
    "ax.set_xticks(theta)\n",
    "ax.set_xticklabels(cluster_centers.columns[:-1], rotation=45, ha='right')\n",
    "plt.legend(loc='upper left', bbox_to_anchor=(1.05, 1))\n",
    "plt.show()"
   ]
  },
  {
   "cell_type": "code",
   "execution_count": null,
   "id": "fc809862-f964-4fd1-b19e-95873b802cc8",
   "metadata": {},
   "outputs": [],
   "source": [
    "# cluster 3 \n",
    "first_row_centers = cluster_centers.iloc[3, :-1]\n",
    "num_features = len(first_row_centers)\n",
    "theta = np.linspace(0, 2 * np.pi, num_features, endpoint=False)\n",
    "fig, ax = plt.subplots(subplot_kw={'projection': 'polar'})\n",
    "ax.plot(theta, first_row_centers, linewidth=1, color='blue', marker='o', label='Centers')\n",
    "ax.plot(theta, np.zeros_like(first_row_centers), color='red', linestyle='--', label='Average')\n",
    "ax.plot(np.append(theta, theta[0]), np.append(first_row_centers, first_row_centers[0]), linewidth=1, color='blue', marker='o')\n",
    "ax.set_xticks(theta)\n",
    "ax.set_xticklabels(cluster_centers.columns[:-1], rotation=45, ha='right')\n",
    "plt.legend(loc='upper left', bbox_to_anchor=(1.05, 1))\n",
    "plt.show()"
   ]
  },
  {
   "cell_type": "code",
   "execution_count": null,
   "id": "dc4f64fd-209f-4311-aef8-670b30d39e7a",
   "metadata": {},
   "outputs": [],
   "source": [
    "# cluster 4\n",
    "first_row_centers = cluster_centers.iloc[4, :-1]\n",
    "num_features = len(first_row_centers)\n",
    "theta = np.linspace(0, 2 * np.pi, num_features, endpoint=False)\n",
    "fig, ax = plt.subplots(subplot_kw={'projection': 'polar'})\n",
    "ax.plot(theta, first_row_centers, linewidth=1, color='blue', marker='o', label='Centers')\n",
    "ax.plot(theta, np.zeros_like(first_row_centers), color='red', linestyle='--', label='Average')\n",
    "ax.plot(np.append(theta, theta[0]), np.append(first_row_centers, first_row_centers[0]), linewidth=1, color='blue', marker='o')\n",
    "ax.set_xticks(theta)\n",
    "ax.set_xticklabels(cluster_centers.columns[:-1], rotation=45, ha='right')\n",
    "plt.legend(loc='upper left', bbox_to_anchor=(1.05, 1))\n",
    "plt.show()"
   ]
  },
  {
   "cell_type": "code",
   "execution_count": null,
   "id": "83f4c78b-4ba4-42be-9126-a1adf5fbbacd",
   "metadata": {},
   "outputs": [],
   "source": [
    "# cluster 5\n",
    "first_row_centers = cluster_centers.iloc[5, :-1]\n",
    "num_features = len(first_row_centers)\n",
    "theta = np.linspace(0, 2 * np.pi, num_features, endpoint=False)\n",
    "fig, ax = plt.subplots(subplot_kw={'projection': 'polar'})\n",
    "ax.plot(theta, first_row_centers, linewidth=1, color='blue', marker='o', label='Centers')\n",
    "ax.plot(theta, np.zeros_like(first_row_centers), color='red', linestyle='--', label='Average')\n",
    "ax.plot(np.append(theta, theta[0]), np.append(first_row_centers, first_row_centers[0]), linewidth=1, color='blue', marker='o')\n",
    "ax.set_xticks(theta)\n",
    "ax.set_xticklabels(cluster_centers.columns[:-1], rotation=45, ha='right')\n",
    "plt.legend(loc='upper left', bbox_to_anchor=(1.05, 1))\n",
    "plt.show()"
   ]
  },
  {
   "cell_type": "code",
   "execution_count": null,
   "id": "17bb5b6d-0ac6-4954-8ff5-23722ea62e2f",
   "metadata": {},
   "outputs": [],
   "source": [
    "# cluster 6\n",
    "first_row_centers = cluster_centers.iloc[6, :-1]\n",
    "num_features = len(first_row_centers)\n",
    "theta = np.linspace(0, 2 * np.pi, num_features, endpoint=False)\n",
    "fig, ax = plt.subplots(subplot_kw={'projection': 'polar'})\n",
    "ax.plot(theta, first_row_centers, linewidth=1, color='blue', marker='o', label='Centers')\n",
    "ax.plot(theta, np.zeros_like(first_row_centers), color='red', linestyle='--', label='Average')\n",
    "ax.plot(np.append(theta, theta[0]), np.append(first_row_centers, first_row_centers[0]), linewidth=1, color='blue', marker='o')\n",
    "ax.set_xticks(theta)\n",
    "ax.set_xticklabels(cluster_centers.columns[:-1], rotation=45, ha='right')\n",
    "plt.legend(loc='upper left', bbox_to_anchor=(1.05, 1))\n",
    "plt.show()"
   ]
  },
  {
   "cell_type": "code",
   "execution_count": null,
   "id": "ca39909b-f691-4695-bc8b-79ff0ec01709",
   "metadata": {},
   "outputs": [],
   "source": [
    "# cluster 7 \n",
    "first_row_centers = cluster_centers.iloc[7, :-1]\n",
    "num_features = len(first_row_centers)\n",
    "theta = np.linspace(0, 2 * np.pi, num_features, endpoint=False)\n",
    "fig, ax = plt.subplots(subplot_kw={'projection': 'polar'})\n",
    "ax.plot(theta, first_row_centers, linewidth=1, color='blue', marker='o', label='Centers')\n",
    "ax.plot(theta, np.zeros_like(first_row_centers), color='red', linestyle='--', label='Average')\n",
    "ax.plot(np.append(theta, theta[0]), np.append(first_row_centers, first_row_centers[0]), linewidth=1, color='blue', marker='o')\n",
    "ax.set_xticks(theta)\n",
    "ax.set_xticklabels(cluster_centers.columns[:-1], rotation=45, ha='right')\n",
    "plt.legend(loc='upper left', bbox_to_anchor=(1.05, 1))\n",
    "plt.show()"
   ]
  },
  {
   "cell_type": "code",
   "execution_count": null,
   "id": "08bc0f2d-a91f-486f-80fa-b3d7694a76f6",
   "metadata": {},
   "outputs": [],
   "source": [
    "# cluster 8\n",
    "first_row_centers = cluster_centers.iloc[8, :-1]\n",
    "num_features = len(first_row_centers)\n",
    "theta = np.linspace(0, 2 * np.pi, num_features, endpoint=False)\n",
    "fig, ax = plt.subplots(subplot_kw={'projection': 'polar'})\n",
    "ax.plot(theta, first_row_centers, linewidth=1, color='blue', marker='o', label='Centers')\n",
    "ax.plot(theta, np.zeros_like(first_row_centers), color='red', linestyle='--', label='Average')\n",
    "ax.plot(np.append(theta, theta[0]), np.append(first_row_centers, first_row_centers[0]), linewidth=1, color='blue', marker='o')\n",
    "ax.set_xticks(theta)\n",
    "ax.set_xticklabels(cluster_centers.columns[:-1], rotation=45, ha='right')\n",
    "plt.legend(loc='upper left', bbox_to_anchor=(1.05, 1))\n",
    "plt.show()"
   ]
  },
  {
   "cell_type": "markdown",
   "id": "65edc7c3-0b16-496b-8320-f55b8bd56613",
   "metadata": {},
   "source": [
    "## References\n",
    "\n",
    "* Sinclair, C. and Das, S. (2021) ‘Analyzing UK Urban Traffic Accidents with K-means Clustering for Geospatial Mapping’, Proceedings of the 2021 International Conference on Sustainable Energy and Future Electric Transportation (SEFET). doi:10.1109/sefet48154.2021.9375817.\n",
    "\n",
    "* Ewing, R. (No date) ‘Evaluating the Effects of Traffic Calming Measures on Urban Roads’, publication. Available at: https://nacto.org/docs/usdg/impacts_of_traffic_calming_ewing.pdf.\n",
    "\n",
    "* Nightingale, G.F. et al. (2021) ‘Assessment of Edinburgh’s Citywide 20mph Speed Limit on Traffic Dynamics’, PLOS ONE, 16(12). doi:10.1371/journal.pone.0261383.\n",
    "\n",
    "* Hunter, R.F. et al. (2022) ‘Exploring the Influence of a 20mph Speed Limit on Road Safety in Belfast, UK: A Three-Year Evaluation’, Journal of Epidemiology and Community Health, 77(1), pp. 17–25. doi:10.1136/jech-2022-219729.\n",
    "\n",
    "* Pembuain, A., Priyanto, S., Suparma, L. (2019) ‘Influence of Road Infrastructure on Traffic Accident Occurrences’, Proceedings of the 11th Asia Pacific Conference on Transportation and the Environment (APTE 2018) [Preprint]. doi:10.2991/apte-18.2019.27.\n",
    "\n",
    "* UK Road Safety: Accidents and Vehicles Dataset. Available at: https://www.kaggle.com/datasets/tsiaras/uk-road-safety-accidents-and-vehicles"
   ]
  }
 ],
 "metadata": {
  "kernelspec": {
   "display_name": "Python 3 (ipykernel)",
   "language": "python",
   "name": "python3"
  },
  "language_info": {
   "codemirror_mode": {
    "name": "ipython",
    "version": 3
   },
   "file_extension": ".py",
   "mimetype": "text/x-python",
   "name": "python",
   "nbconvert_exporter": "python",
   "pygments_lexer": "ipython3",
   "version": "3.11.6"
  }
 },
 "nbformat": 4,
 "nbformat_minor": 5
}
